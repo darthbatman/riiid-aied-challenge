{
 "cells": [
  {
   "cell_type": "code",
   "execution_count": 1,
   "metadata": {
    "_cell_guid": "79c7e3d0-c299-4dcb-8224-4455121ee9b0",
    "_uuid": "d629ff2d2480ee46fbb7e2d37f6b5fab8052498a"
   },
   "outputs": [],
   "source": [
    "# Data cleaning, transformations, and LSTM architecture derived from https://www.kaggle.com/shivanandmn/cnn-lstm-pytorch-riiid"
   ]
  },
  {
   "cell_type": "code",
   "execution_count": 2,
   "metadata": {},
   "outputs": [],
   "source": [
    "import matplotlib.pyplot as plt\n",
    "import numpy as np\n",
    "import pandas as pd\n",
    "import torch\n",
    "import torch.nn as nn\n",
    "\n",
    "from sklearn.preprocessing import LabelEncoder, StandardScaler"
   ]
  },
  {
   "cell_type": "code",
   "execution_count": 3,
   "metadata": {},
   "outputs": [],
   "source": [
    "train_df = pd.read_csv(\"data/train.csv\", low_memory=False, nrows=1000000)"
   ]
  },
  {
   "cell_type": "code",
   "execution_count": 4,
   "metadata": {},
   "outputs": [],
   "source": [
    "train_df = train_df.sort_values(['timestamp'], ascending=True).reset_index(drop=True)\n",
    "train_df.drop(['timestamp', 'content_type_id'], axis=1, inplace=True)"
   ]
  },
  {
   "cell_type": "code",
   "execution_count": 5,
   "metadata": {},
   "outputs": [],
   "source": [
    "X_test_df = pd.DataFrame()\n",
    "for i in range(4):\n",
    "    last_records = train_df.drop_duplicates('user_id', keep='last')\n",
    "    train_df = train_df[~train_df.index.isin(last_records.index)]\n",
    "    X_test_df = X_test_df.append(last_records)"
   ]
  },
  {
   "cell_type": "code",
   "execution_count": 6,
   "metadata": {},
   "outputs": [],
   "source": [
    "X_train_df = pd.DataFrame()\n",
    "for i in range(15):\n",
    "    last_records = train_df.drop_duplicates('user_id', keep = 'last')\n",
    "    train_df = train_df[~train_df.index.isin(last_records.index)]\n",
    "    X_train_df = X_train_df.append(last_records)"
   ]
  },
  {
   "cell_type": "code",
   "execution_count": 7,
   "metadata": {},
   "outputs": [],
   "source": [
    "results_c = train_df[['content_id','answered_correctly']].groupby(['content_id']).agg(['mean'])\n",
    "results_c.columns = [\"answered_correctly_content_mean\"]\n",
    "results_u = train_df[['user_id','answered_correctly']].groupby(['user_id']).agg(['mean', 'sum', 'count'])\n",
    "results_u.columns = [\"answered_correctly_user_mean\", 'sum_correct', 'count']\n",
    "result_time_mean = train_df.prior_question_elapsed_time.mean()"
   ]
  },
  {
   "cell_type": "code",
   "execution_count": 8,
   "metadata": {},
   "outputs": [],
   "source": [
    "y_train = X_train_df['answered_correctly'].tolist()\n",
    "X_train_df = X_train_df.drop(['answered_correctly'], axis=1)\n",
    "\n",
    "y_test = X_test_df['answered_correctly'].to_list()\n",
    "X_test_df = X_test_df.drop(['answered_correctly'], axis=1)"
   ]
  },
  {
   "cell_type": "code",
   "execution_count": 9,
   "metadata": {},
   "outputs": [],
   "source": [
    "lencoder = LabelEncoder()\n",
    "\n",
    "X_train_df['prior_question_had_explanation'].fillna(False, inplace=True)\n",
    "X_train_df['prior_question_elapsed_time'].fillna(result_time_mean, inplace=True)\n",
    "\n",
    "X_test_df['prior_question_had_explanation'].fillna(False, inplace = True)\n",
    "X_test_df['prior_question_elapsed_time'].fillna(result_time_mean, inplace=True)"
   ]
  },
  {
   "cell_type": "code",
   "execution_count": 10,
   "metadata": {},
   "outputs": [],
   "source": [
    "scaler = StandardScaler()\n",
    "X_train = scaler.fit_transform(X_train_df)\n",
    "X_test = scaler.transform(X_test_df)"
   ]
  },
  {
   "cell_type": "code",
   "execution_count": 11,
   "metadata": {},
   "outputs": [],
   "source": [
    "X_train = X_train.reshape(X_train.shape[0], 1, X_train.shape[1])\n",
    "X_test = X_test.reshape(X_test.shape[0], 1, X_test.shape[1])"
   ]
  },
  {
   "cell_type": "code",
   "execution_count": 12,
   "metadata": {},
   "outputs": [],
   "source": [
    "device = 'cpu'"
   ]
  },
  {
   "cell_type": "code",
   "execution_count": 13,
   "metadata": {},
   "outputs": [],
   "source": [
    "class LSTMBinaryClassifier(nn.Module):\n",
    "    def __init__(self, input_size, n_layers):\n",
    "        super(LSTMBinaryClassifier, self).__init__()\n",
    "\n",
    "        self.input_size = input_size\n",
    "        self.n_layers = n_layers\n",
    "        \n",
    "        self.lstm = nn.LSTM(self.input_size, self.input_size, num_layers=self.n_layers, batch_first=True)\n",
    "        self.fc1 = nn.Linear(self.input_size, 32)\n",
    "        self.fc2 = nn.Linear(32, 1)\n",
    "        self.drop = nn.Dropout(0.1)\n",
    "        self.relu = nn.ReLU()\n",
    "\n",
    "    def forward(self,x):\n",
    "        hidden = self.init_hidden(x.shape[0])\n",
    "        x, _ = self.lstm(x, hidden)\n",
    "        x = self.drop(self.relu(self.fc1(x)))\n",
    "        x = self.drop(self.relu(self.fc2(x)))\n",
    "        return x\n",
    "\n",
    "    def init_hidden(self, batch_size):\n",
    "        hidden = (torch.zeros((self.n_layers, batch_size, self.input_size)).to(device),\n",
    "                  torch.zeros((self.n_layers, batch_size, self.input_size)).to(device))\n",
    "        return hidden"
   ]
  },
  {
   "cell_type": "code",
   "execution_count": 14,
   "metadata": {},
   "outputs": [
    {
     "data": {
      "text/plain": [
       "LSTMBinaryClassifier(\n",
       "  (lstm): LSTM(7, 7, num_layers=3, batch_first=True)\n",
       "  (fc1): Linear(in_features=7, out_features=32, bias=True)\n",
       "  (fc2): Linear(in_features=32, out_features=1, bias=True)\n",
       "  (drop): Dropout(p=0.1, inplace=False)\n",
       "  (relu): ReLU()\n",
       ")"
      ]
     },
     "execution_count": 14,
     "metadata": {},
     "output_type": "execute_result"
    }
   ],
   "source": [
    "model = LSTMBinaryClassifier(input_size=X_train.shape[2], n_layers=3)\n",
    "model.to(device)"
   ]
  },
  {
   "cell_type": "code",
   "execution_count": 15,
   "metadata": {},
   "outputs": [],
   "source": [
    "BATCH_SIZE = 32\n",
    "NUM_EPOCHS = 240\n",
    "LEARNING_RATE = 0.001"
   ]
  },
  {
   "cell_type": "code",
   "execution_count": 16,
   "metadata": {},
   "outputs": [],
   "source": [
    "optimizer = torch.optim.Adam(model.parameters(), lr=LEARNING_RATE)\n",
    "criterion = nn.BCEWithLogitsLoss()"
   ]
  },
  {
   "cell_type": "code",
   "execution_count": 17,
   "metadata": {},
   "outputs": [
    {
     "name": "stdout",
     "output_type": "stream",
     "text": [
      "Epoch 010 | Loss: 0.000659835182901514\n",
      "Epoch 020 | Loss: 0.0006576071495922018\n",
      "Epoch 030 | Loss: 0.0006537745273741621\n",
      "Epoch 040 | Loss: 0.0006546999713730301\n",
      "Epoch 050 | Loss: 0.0006505637915683618\n",
      "Epoch 060 | Loss: 0.0006495301611822596\n",
      "Epoch 070 | Loss: 0.0006476096300272998\n",
      "Epoch 080 | Loss: 0.0006472484926416484\n",
      "Epoch 090 | Loss: 0.0006438647813145941\n",
      "Epoch 100 | Loss: 0.0006409467052634505\n",
      "Epoch 110 | Loss: 0.0006424831049577108\n",
      "Epoch 120 | Loss: 0.0006386458346512584\n",
      "Epoch 130 | Loss: 0.0006364196342694112\n",
      "Epoch 140 | Loss: 0.0006399033781519623\n",
      "Epoch 150 | Loss: 0.0006361807849523555\n",
      "Epoch 160 | Loss: 0.000641660688733456\n",
      "Epoch 170 | Loss: 0.0006392513880624962\n",
      "Epoch 180 | Loss: 0.0006420134372413773\n",
      "Epoch 190 | Loss: 0.0006364732759698661\n",
      "Epoch 200 | Loss: 0.0006345213731831508\n",
      "Epoch 210 | Loss: 0.0006364943384628238\n",
      "Epoch 220 | Loss: 0.0006329800612432843\n",
      "Epoch 230 | Loss: 0.0006311150376011194\n",
      "Epoch 240 | Loss: 0.0006375338617107258\n"
     ]
    }
   ],
   "source": [
    "model.train()\n",
    "epoch_losses = []\n",
    "for epoch in range(NUM_EPOCHS):\n",
    "    total_loss = 0\n",
    "    for batch_idx in range(0, X_train.shape[0], BATCH_SIZE):\n",
    "        batch = X_train[batch_idx * BATCH_SIZE:(batch_idx + 1) * BATCH_SIZE]\n",
    "        if batch.shape[0] <= 0:\n",
    "            continue\n",
    "        batch = torch.Tensor(batch).view(BATCH_SIZE, 1, -1).to(device)\n",
    "\n",
    "        target = y_train[batch_idx * BATCH_SIZE:(batch_idx + 1) * BATCH_SIZE]\n",
    "        target = torch.Tensor(target).view(BATCH_SIZE, 1, -1).long().to(device)\n",
    "\n",
    "        optimizer.zero_grad()\n",
    "\n",
    "        pred = model(batch).permute(0, 2, 1)\n",
    "\n",
    "        target = target.type_as(pred)\n",
    "\n",
    "        loss = criterion(pred, target)\n",
    "        loss.backward()\n",
    "        optimizer.step()\n",
    "        \n",
    "        total_loss += loss.item()\n",
    "\n",
    "    avg_epoch_loss = total_loss / X_train.shape[0]\n",
    "    epoch_losses.append(avg_epoch_loss)\n",
    "\n",
    "    if (epoch + 1) % 10 == 0:\n",
    "        print(f'Epoch {(epoch + 1):03} | Loss: {avg_epoch_loss}')"
   ]
  },
  {
   "cell_type": "code",
   "execution_count": 18,
   "metadata": {},
   "outputs": [
    {
     "data": {
      "text/plain": [
       "[<matplotlib.lines.Line2D at 0x7f09fd07d490>]"
      ]
     },
     "execution_count": 18,
     "metadata": {},
     "output_type": "execute_result"
    },
    {
     "data": {
      "image/png": "[encoded data removed]",
      "text/plain": [
       "<Figure size 432x288 with 1 Axes>"
      ]
     },
     "metadata": {
      "needs_background": "light"
     },
     "output_type": "display_data"
    }
   ],
   "source": [
    "plt.plot(epoch_losses)"
   ]
  },
  {
   "cell_type": "code",
   "execution_count": 19,
   "metadata": {},
   "outputs": [
    {
     "name": "stdout",
     "output_type": "stream",
     "text": [
      "Test Accuracy: 0.544062806673209\n"
     ]
    }
   ],
   "source": [
    "model.eval()\n",
    "num_correct = 0\n",
    "for i in range(X_test.shape[0]):\n",
    "    sample = X_test[i]\n",
    "    sample = torch.Tensor(sample).view(1, 1, -1).to(device)\n",
    "    pred = model(sample).permute(0, 2, 1).item()\n",
    "    if (pred > 0.5 and y_test[i] == 1) or (pred < 0.5 and y_test[i] == 0):\n",
    "        num_correct += 1\n",
    "print(f'Test Accuracy: {num_correct / X_test.shape[0]}')"
   ]
  }
 ],
 "metadata": {
  "kernelspec": {
   "display_name": "riiid",
   "language": "python",
   "name": "riiid"
  },
  "language_info": {
   "codemirror_mode": {
    "name": "ipython",
    "version": 3
   },
   "file_extension": ".py",
   "mimetype": "text/x-python",
   "name": "python",
   "nbconvert_exporter": "python",
   "pygments_lexer": "ipython3",
   "version": "3.8.5"
  }
 },
 "nbformat": 4,
 "nbformat_minor": 4
}
